{
 "cells": [
  {
   "cell_type": "code",
   "execution_count": 1,
   "metadata": {},
   "outputs": [],
   "source": [
    "import pandas as pd\n",
    "import requests\n",
    "import xml.etree.ElementTree as ET\n"
   ]
  },
  {
   "cell_type": "code",
   "execution_count": 20,
   "metadata": {},
   "outputs": [
    {
     "name": "stdout",
     "output_type": "stream",
     "text": [
      "La donnée à bien été importé\n",
      "                Code                                              Label\n",
      "0                EUR                                             Europe\n",
      "1                 EU  European Union (EU6-1958, EU9-1973, EU10-1981,...\n",
      "2               EU_V  European Union (aggregate changing according t...\n",
      "3            EU_V_NO  European Union (aggregate changing according t...\n",
      "4     EU27_2020_EFTA  European Union - 27 countries (from 2020) and ...\n",
      "...              ...                                                ...\n",
      "4085             NAL                                      Not allocated\n",
      "4086             NAP                                     Not applicable\n",
      "4087             NRP                                        No response\n",
      "4088             NSP                                      Not specified\n",
      "4089             UNK                                            Unknown\n",
      "\n",
      "[4090 rows x 2 columns]\n"
     ]
    }
   ],
   "source": [
    "# Envoyer une requête initiale\n",
    "api_url = 'https://ec.europa.eu/eurostat/api/dissemination/sdmx/2.1/codelist/ESTAT/GEO?format=JSON&lang=en'\n",
    "\n",
    "response = requests.get(api_url)\n",
    "\n",
    "# Vérifier que la data à bien été importée\n",
    "if response.status_code == 200:\n",
    "            print(\"La donnée à bien été importé\")\n",
    "            data = response.json()\n",
    "            # print(response.json())\n",
    "\n",
    "             # Initialisation des listes pour stocker les données\n",
    "            codes = []\n",
    "            labels = []\n",
    "\n",
    "    # Parcourir les données JSON\n",
    "            for code, label in data[\"category\"][\"label\"].items():\n",
    "                codes.append(code)\n",
    "                labels.append(label)\n",
    "\n",
    "    # Créer un DataFrame pandas à partir des listes\n",
    "            df = pd.DataFrame({\"Code\": codes, \"Label\": labels})\n",
    "\n",
    "            # Afficher le DataFrame\n",
    "            print(df)\n",
    "\n",
    "# Sinon print une erreur\n",
    "else:\n",
    "         print(f\"Erreur lors de la requête à l'API. Code d'état : {response.status_code}\")\n"
   ]
  },
  {
   "cell_type": "code",
   "execution_count": 19,
   "metadata": {},
   "outputs": [
    {
     "name": "stdout",
     "output_type": "stream",
     "text": [
      "La donnée a bien été importée\n",
      "<ns0:Structure xmlns:ns0=\"http://www.sdmx.org/resources/sdmxml/schemas/v2_1/message\" xmlns:ns1=\"http://www.sdmx.org/resources/sdmxml/schemas/v2_1/structure\" xmlns:ns2=\"http://www.sdmx.org/resources/sdmxml/schemas/v2_1/common\"><ns0:Header><ns0:ID>DF1712783359</ns0:ID><ns0:Test>false</ns0:Test><ns0:Prepared>2024-04-10T23:09:19.946+02:00</ns0:Prepared><ns0:Sender id=\"ESTAT\" /></ns0:Header><ns0:Structures><ns1:Dataflows><ns1:Dataflow id=\"NAMA_10_GDP\" urn=\"urn:sdmx:org.sdmx.infomodel.datastructure.Dataflow=ESTAT:NAMA_10_GDP(1.0)\" agencyID=\"ESTAT\" version=\"1.0\" isFinal=\"false\"><ns2:Annotations><ns2:Annotation><ns2:AnnotationTitle>DATASET</ns2:AnnotationTitle><ns2:AnnotationType>DISSEMINATION_OBJECT_TYPE</ns2:AnnotationType></ns2:Annotation><ns2:Annotation><ns2:AnnotationTitle>880181</ns2:AnnotationTitle><ns2:AnnotationType>OBS_COUNT</ns2:AnnotationType></ns2:Annotation><ns2:Annotation><ns2:AnnotationTitle>1975</ns2:AnnotationTitle><ns2:AnnotationType>OBS_PERIOD_OVERALL_OLDEST</ns2:AnnotationType></ns2:Annotation><ns2:Annotation><ns2:AnnotationTitle>2023</ns2:AnnotationTitle><ns2:AnnotationType>OBS_PERIOD_OVERALL_LATEST</ns2:AnnotationType></ns2:Annotation><ns2:Annotation><ns2:AnnotationTitle>2024-01-15T23:00:00+0100</ns2:AnnotationTitle><ns2:AnnotationType>UPDATE_STRUCTURE</ns2:AnnotationType></ns2:Annotation><ns2:Annotation><ns2:AnnotationTitle>2024-04-10T23:00:00+0200</ns2:AnnotationTitle><ns2:AnnotationType>UPDATE_DATA</ns2:AnnotationType></ns2:Annotation><ns2:Annotation><ns2:AnnotationTitle>Explanatory texts (metadata)</ns2:AnnotationTitle><ns2:AnnotationType>ESMS_HTML</ns2:AnnotationType><ns2:AnnotationURL>https://ec.europa.eu/eurostat/cache/metadata/en/nama10_esms.htm</ns2:AnnotationURL></ns2:Annotation><ns2:Annotation><ns2:AnnotationTitle>Explanatory texts (metadata)</ns2:AnnotationTitle><ns2:AnnotationType>ESMS_SDMX</ns2:AnnotationType><ns2:AnnotationURL>https://ec.europa.eu/eurostat/api/dissemination/files?file=metadata/nama10_esms.sdmx.zip</ns2:AnnotationURL></ns2:Annotation><ns2:Annotation><ns2:AnnotationType>SOURCE_INSTITUTIONS</ns2:AnnotationType><ns2:AnnotationText xml:lang=\"fr\">Eurostat</ns2:AnnotationText><ns2:AnnotationText xml:lang=\"en\">Eurostat</ns2:AnnotationText><ns2:AnnotationText xml:lang=\"de\">Eurostat</ns2:AnnotationText></ns2:Annotation><ns2:Annotation><ns2:AnnotationTitle>&lt;adms:identifier xmlns:adms=\"http://www.w3.org/ns/adms#\" xmlns:skos=\"http://www.w3.org/2004/02/skos/core.html\" xmlns:dct=\"http://purl.org/dc/terms/\" xmlns:rdf=\"http://www.w3.org/1999/02/22-rdf-syntax-ns#\"&gt;&lt;adms:Identifier rdf:about=\"https://doi.org/10.2908/NAMA_10_GDP\"&gt;&lt;skos:notation rdf:datatype=\"http://purl.org/spar/datacite/doi\"&gt;10.2908/NAMA_10_GDP&lt;/skos:notation&gt;&lt;dct:creator rdf:resource=\"http://publications.europa.eu/resource/authority/corporate-body/ESTAT\"/&gt;&lt;dct:issued rdf:datatype=\"http://www.w3.org/2001/XMLSchema#date\"&gt;2023-01-19&lt;/dct:issued&gt;&lt;/adms:Identifier&gt;&lt;/adms:identifier&gt;</ns2:AnnotationTitle><ns2:AnnotationType>DISSEMINATION_DOI_XML</ns2:AnnotationType></ns2:Annotation></ns2:Annotations><ns2:Name xml:lang=\"en\">GDP and main components (output, expenditure and income)</ns2:Name><ns2:Name xml:lang=\"de\">BIP und Hauptkomponenten (Produktionswert, Ausgaben und Einkommen)</ns2:Name><ns2:Name xml:lang=\"fr\">PIB et principaux composants (production, dépenses et revenu)</ns2:Name><ns1:Structure><Ref id=\"NAMA_10_GDP\" version=\"62.0\" agencyID=\"ESTAT\" package=\"datastructure\" class=\"DataStructure\" /></ns1:Structure></ns1:Dataflow></ns1:Dataflows></ns0:Structures></ns0:Structure>\n",
      "                                                Name  \\\n",
      "0  GDP and main components (output, expenditure a...   \n",
      "\n",
      "                                         Annotations  \n",
      "0  [DATASET, 880181, 1975, 2023, 2024-01-15T23:00...  \n",
      "                                                Name  \\\n",
      "0  GDP and main components (output, expenditure a...   \n",
      "\n",
      "                                         Annotations  \n",
      "0  [DATASET, 880181, 1975, 2023, 2024-01-15T23:00...  \n"
     ]
    }
   ],
   "source": [
    "# Envoyer une requête initiale\n",
    "api_url = 'https://ec.europa.eu/eurostat/api/dissemination/sdmx/2.1/dataflow/ESTAT/NAMA_10_GDP'\n",
    "\n",
    "response = requests.get(api_url)\n",
    "\n",
    "# Vérifier que la data à bien été importée\n",
    "if response.status_code == 200:\n",
    "    print(\"La donnée a bien été importée\")\n",
    "    data = response.text\n",
    "\n",
    "    \n",
    "    # Analyser la chaîne XML en un objet ElementTree\n",
    "    root = ET.fromstring(data)\n",
    "    \n",
    "    # Afficher l'objet ElementTree\n",
    "    ET.dump(root)\n",
    "\n",
    "    # Initialiser des listes pour stocker les données\n",
    "    names = []\n",
    "    annotations = []\n",
    "\n",
    "    # Extraire les noms et les annotations\n",
    "    for dataflow in root.findall('.//{http://www.sdmx.org/resources/sdmxml/schemas/v2_1/structure}Dataflow'):\n",
    "        name = dataflow.find('.//{http://www.sdmx.org/resources/sdmxml/schemas/v2_1/common}Name').text\n",
    "        names.append(name)\n",
    "        \n",
    "        annotation_titles = []\n",
    "        for annotation in dataflow.findall('.//{http://www.sdmx.org/resources/sdmxml/schemas/v2_1/common}Annotation'):\n",
    "            title_element = annotation.find('.//{http://www.sdmx.org/resources/sdmxml/schemas/v2_1/common}AnnotationTitle')\n",
    "            if title_element is not None:\n",
    "                annotation_titles.append(title_element.text)\n",
    "        annotations.append(annotation_titles)\n",
    "\n",
    "    # Créer un DataFrame Pandas\n",
    "    df = pd.DataFrame({'Name': names, 'Annotations': annotations})\n",
    "\n",
    "    # Afficher le DataFrame\n",
    "    print(df)\n",
    "\n",
    "else:\n",
    "    print(f\"Erreur lors de la requête à l'API. Code d'état : {response.status_code}\")\n",
    "\n"
   ]
  },
  {
   "cell_type": "code",
   "execution_count": 31,
   "metadata": {},
   "outputs": [
    {
     "name": "stdout",
     "output_type": "stream",
     "text": [
      "        TIME_PERIOD  OBS_VALUE geo\n",
      "0              1995     1310.0  AL\n",
      "1              1996     1410.0  AL\n",
      "2              1997     1270.0  AL\n",
      "3              1998     1390.0  AL\n",
      "4              1999     1580.0  AL\n",
      "...             ...        ...  ..\n",
      "100530         2015      127.7  UK\n",
      "100531         2016      125.6  UK\n",
      "100532         2017      123.8  UK\n",
      "100533         2018      122.5  UK\n",
      "100534         2019      121.0  UK\n",
      "\n",
      "[100535 rows x 3 columns]\n"
     ]
    }
   ],
   "source": [
    "# Définir les paramètres de la requête\n",
    "url = 'https://ec.europa.eu/eurostat/api/dissemination/sdmx/2.1/data/NAMA_10_pc?format=SDMX-CSV'\n",
    "\n",
    "\n",
    "# Envoyer la requête\n",
    "response = requests.get(url)\n",
    "\n",
    "# Vérifier si la requête a réussi\n",
    "if response.status_code == 200:\n",
    "    # Lire les données CSV dans un DataFrame Pandas\n",
    "    df = pd.read_csv(url)\n",
    "    # Afficher les premières lignes du DataFrame pour vérification\n",
    "    # print(df)\n",
    "else:\n",
    "    print(f\"Erreur lors de la requête à l'API Eurostat. Code d'état : {response.status_code}\")\n",
    "\n",
    "\n",
    "# Sélectionner uniquement les colonnes nécessaires : \"Time period\", \"obs value\" et \"geo\"\n",
    "selected_columns = [\"TIME_PERIOD\", \"OBS_VALUE\", \"geo\"]\n",
    "df_selected = df[selected_columns]\n",
    "\n",
    "# Afficher les premières lignes du DataFrame pour vérification\n",
    "print(df_selected)"
   ]
  }
 ],
 "metadata": {
  "kernelspec": {
   "display_name": "Python 3",
   "language": "python",
   "name": "python3"
  },
  "language_info": {
   "codemirror_mode": {
    "name": "ipython",
    "version": 3
   },
   "file_extension": ".py",
   "mimetype": "text/x-python",
   "name": "python",
   "nbconvert_exporter": "python",
   "pygments_lexer": "ipython3",
   "version": "3.11.3"
  }
 },
 "nbformat": 4,
 "nbformat_minor": 2
}
